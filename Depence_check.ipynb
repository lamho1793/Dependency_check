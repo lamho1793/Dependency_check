{
 "cells": [
  {
   "cell_type": "code",
   "execution_count": 21,
   "metadata": {},
   "outputs": [],
   "source": [
    "import json\n",
    "from pickle import FALSE\n",
    "from sys import displayhook\n",
    "import warnings\n",
    "import networkx as nx\n",
    "import pandas as pd\n",
    "import numpy as np\n",
    "import timeit\n",
    "import Graph_identifier as gf\n",
    "import matplotlib.pyplot as plt\n",
    "from IPython.display import Image\n",
    "import os\n",
    "import ipywidgets as widgets\n",
    "import requests\n",
    "from pyvis.network import Network\n",
    "warnings.filterwarnings('ignore')"
   ]
  },
  {
   "cell_type": "markdown",
   "metadata": {},
   "source": [
    "\n",
    "**---------------------------------------------FUNCTION PART-------------------------------------------**\n"
   ]
  },
  {
   "cell_type": "code",
   "execution_count": 22,
   "metadata": {},
   "outputs": [],
   "source": [
    "proxies = {\n",
    "   'http': 'http://172.19.1.222:3128',\n",
    "   'https': 'http://172.19.1.222:3128',\n",
    "}"
   ]
  },
  {
   "cell_type": "code",
   "execution_count": 23,
   "metadata": {},
   "outputs": [],
   "source": [
    "def gettenant_access_token():\n",
    "    tokenurl=\"https://open.feishu.cn/open-apis/auth/v3/tenant_access_token/internal\"\n",
    "    headers={\"Content-Type\":\"application/json\"}\n",
    "    data={\n",
    "        \"app_id\":\"cli_a1f5f330a5f9d00e\",\n",
    "        \"app_secret\":\"QFzhtAJwEdPiUGF9c4tpKeub2TEKI3x8\"\n",
    "\n",
    "    }\n",
    "    request=requests.post(url=tokenurl,headers=headers,json=data,proxies=proxies)\n",
    "    response=json.loads(request.content)['tenant_access_token']\n",
    "    return response\n",
    "\n",
    "def sendmes(chat_id,messages):\n",
    "    tenant_access_token=gettenant_access_token()\n",
    "    sendurl=\"https://open.feishu.cn/open-apis/message/v4/batch_send?receive_id_type=user_id\"\n",
    "    headers={\"Authorization\":\"Bearer %s\"%tenant_access_token,\"Content-Type\":\"application/json\"}\n",
    "    data ={\n",
    "            \"user_ids\": [chat_id],\n",
    "            \"msg_type\": \"post\",\n",
    "            \"content\": {\n",
    "                \"post\":{\n",
    "                    \"zh_cn\": {\n",
    "                        \"title\": 'dependency Task',\n",
    "                        \"content\": messages\n",
    "                    }\n",
    "            }\n",
    "        }\n",
    "    }\n",
    "    request=requests.post(url=sendurl,headers=headers,json=data,proxies=proxies)\n",
    "    print(request.content)"
   ]
  },
  {
   "cell_type": "markdown",
   "metadata": {},
   "source": [
    "Searching Function:"
   ]
  },
  {
   "cell_type": "code",
   "execution_count": 24,
   "metadata": {},
   "outputs": [],
   "source": [
    "def find_source(data):\n",
    "\n",
    "    distin_source=int(input(\"input 1 for FWsearch or 2 for BWsearch:\"))\n",
    "\n",
    "    if os.path.isfile(r\"Forward.graphml\") and os.path.isfile(r\"Backward.graphml\"):\n",
    "        print('file check ok')\n",
    "    else:\n",
    "        sql_data=gf.get_important_task()\n",
    "        gf.Path_identification(sql_data) \n",
    "\n",
    "    if distin_source==1:\n",
    "        G=nx.read_graphml(\"Forward.graphml\")\n",
    "    elif distin_source==2:\n",
    "        G=nx.read_graphml(\"Backward.graphml\") \n",
    "    else:\n",
    "        print('input error')\n",
    "\n",
    "# name = input(\"Target task:\")\n",
    "    dependences_set=set()\n",
    "    for x in data:\n",
    "        dependences_set|=set(nx.single_source_dijkstra_path(G,x).keys())\n",
    "    \n",
    "    return [G,list(dependences_set)]"
   ]
  },
  {
   "cell_type": "markdown",
   "metadata": {},
   "source": [
    "**-----------------------------------------------TERMINAL INPUT PART-------------------------------------------**"
   ]
  },
  {
   "cell_type": "code",
   "execution_count": 25,
   "metadata": {},
   "outputs": [],
   "source": [
    "#import csv file as a input\n",
    "#df_input=pd.read_csv('gpnew.csv',header=0)"
   ]
  },
  {
   "cell_type": "code",
   "execution_count": 26,
   "metadata": {},
   "outputs": [],
   "source": [
    "#input a list \n",
    "#df_input=['SQOOP_L_TO_DMS_PROD_RETURN','SQOOP_L_TO_DMS_RETURN_ANALISIS','SQOOP_L_TO_DMS_ORDER','SQOOP_L_TO_DMS_PROD_LIST']"
   ]
  },
  {
   "cell_type": "code",
   "execution_count": 27,
   "metadata": {},
   "outputs": [],
   "source": [
    "#input one task name\n",
    "df_input=input('Query task: ')"
   ]
  },
  {
   "cell_type": "code",
   "execution_count": 28,
   "metadata": {},
   "outputs": [
    {
     "name": "stdout",
     "output_type": "stream",
     "text": [
      "file check ok\n"
     ]
    }
   ],
   "source": [
    "match df_input:\n",
    "    case pd.DataFrame():\n",
    "        data_input=df_input[df_input.columns.values[0]].values.tolist()\n",
    "    case list():\n",
    "        data_input=df_input\n",
    "    case str:\n",
    "        data_input=[df_input]\n",
    "\n",
    "result=find_source(data_input)"
   ]
  },
  {
   "cell_type": "markdown",
   "metadata": {},
   "source": [
    "**-----------------------------------------------Graph Visualisation-------------------------------------------**"
   ]
  },
  {
   "cell_type": "code",
   "execution_count": 29,
   "metadata": {},
   "outputs": [],
   "source": [
    "H1 = nx.subgraph(result[0], result[1])\n",
    "for x in result[1]:\n",
    "    if x in data_input:\n",
    "        #FF6C6C\n",
    "        H1.nodes[x]['color']='#97C2FC'\n",
    "    else:\n",
    "        #7F7FFF\n",
    "        H1.nodes[x]['color']='#FFFF00'\n",
    "\n",
    "# net=Network(notebook=True,bgcolor='#f5f5f5', font_color='black')\n",
    "net=Network(height='100%', width='100%', directed=False, bgcolor='#f5f5f5', font_color='black')\n",
    "net.from_nx(H1)\n",
    "net.show(\"Result.html\")"
   ]
  },
  {
   "cell_type": "code",
   "execution_count": 32,
   "metadata": {},
   "outputs": [
    {
     "data": {
      "text/html": [
       "<div>\n",
       "<style scoped>\n",
       "    .dataframe tbody tr th:only-of-type {\n",
       "        vertical-align: middle;\n",
       "    }\n",
       "\n",
       "    .dataframe tbody tr th {\n",
       "        vertical-align: top;\n",
       "    }\n",
       "\n",
       "    .dataframe thead th {\n",
       "        text-align: right;\n",
       "    }\n",
       "</style>\n",
       "<table border=\"1\" class=\"dataframe\">\n",
       "  <thead>\n",
       "    <tr style=\"text-align: right;\">\n",
       "      <th></th>\n",
       "      <th>source</th>\n",
       "      <th>target</th>\n",
       "    </tr>\n",
       "  </thead>\n",
       "  <tbody>\n",
       "    <tr>\n",
       "      <th>7</th>\n",
       "      <td>L_TS_POST_ACCT_CHRG_ITEM_REL_D</td>\n",
       "      <td>T_TR_L_POST_ACCT_CHRG_ITEM_REL</td>\n",
       "    </tr>\n",
       "    <tr>\n",
       "      <th>119</th>\n",
       "      <td>L_TS_POST_CHRG_ITEM_D</td>\n",
       "      <td>T_TR_L_POST_CHRG_ITEM</td>\n",
       "    </tr>\n",
       "    <tr>\n",
       "      <th>41</th>\n",
       "      <td>L_TS_POST_CNTCT_MED_D</td>\n",
       "      <td>T_TR_L_POST_CNTCT_MED</td>\n",
       "    </tr>\n",
       "    <tr>\n",
       "      <th>13</th>\n",
       "      <td>L_TS_POST_COST_CTR_D</td>\n",
       "      <td>T_TR_L_POST_COST_CTR</td>\n",
       "    </tr>\n",
       "    <tr>\n",
       "      <th>88</th>\n",
       "      <td>L_TS_POST_CUST_STS_D</td>\n",
       "      <td>T_TR_L_POST_CUST_STS</td>\n",
       "    </tr>\n",
       "    <tr>\n",
       "      <th>...</th>\n",
       "      <td>...</td>\n",
       "      <td>...</td>\n",
       "    </tr>\n",
       "    <tr>\n",
       "      <th>28</th>\n",
       "      <td>T_TW_POST_USR_852_D</td>\n",
       "      <td>T_TW_POST_USR_D</td>\n",
       "    </tr>\n",
       "    <tr>\n",
       "      <th>117</th>\n",
       "      <td>T_TW_POST_USR_D</td>\n",
       "      <td>T_TW_POST_USR_EXT_D</td>\n",
       "    </tr>\n",
       "    <tr>\n",
       "      <th>118</th>\n",
       "      <td>T_TW_POST_USR_D</td>\n",
       "      <td>T_VW_TW_POST_USR_D</td>\n",
       "    </tr>\n",
       "    <tr>\n",
       "      <th>14</th>\n",
       "      <td>T_TW_POST_USR_EXT_D</td>\n",
       "      <td>T_VW_TW_POST_USR_D</td>\n",
       "    </tr>\n",
       "    <tr>\n",
       "      <th>130</th>\n",
       "      <td>T_VW_TW_POST_USR_D</td>\n",
       "      <td>T_O_VW_TW_POST_USR_D_GP</td>\n",
       "    </tr>\n",
       "  </tbody>\n",
       "</table>\n",
       "<p>132 rows × 2 columns</p>\n",
       "</div>"
      ],
      "text/plain": [
       "                             source                          target\n",
       "7    L_TS_POST_ACCT_CHRG_ITEM_REL_D  T_TR_L_POST_ACCT_CHRG_ITEM_REL\n",
       "119           L_TS_POST_CHRG_ITEM_D           T_TR_L_POST_CHRG_ITEM\n",
       "41            L_TS_POST_CNTCT_MED_D           T_TR_L_POST_CNTCT_MED\n",
       "13             L_TS_POST_COST_CTR_D            T_TR_L_POST_COST_CTR\n",
       "88             L_TS_POST_CUST_STS_D            T_TR_L_POST_CUST_STS\n",
       "..                              ...                             ...\n",
       "28              T_TW_POST_USR_852_D                 T_TW_POST_USR_D\n",
       "117                 T_TW_POST_USR_D             T_TW_POST_USR_EXT_D\n",
       "118                 T_TW_POST_USR_D              T_VW_TW_POST_USR_D\n",
       "14              T_TW_POST_USR_EXT_D              T_VW_TW_POST_USR_D\n",
       "130              T_VW_TW_POST_USR_D         T_O_VW_TW_POST_USR_D_GP\n",
       "\n",
       "[132 rows x 2 columns]"
      ]
     },
     "execution_count": 32,
     "metadata": {},
     "output_type": "execute_result"
    }
   ],
   "source": [
    "\n",
    "#show result dataframe:\n",
    "H_reverse=nx.reverse(H1, copy=False)\n",
    "ttt=list(H_reverse.edges(result[1]))\n",
    "df=pd.DataFrame(ttt)\n",
    "df.columns=['source','target']\n",
    "df.sort_values(by=['source','target'],inplace=True)\n",
    "df.to_csv('dep_task.csv',index=False)\n",
    "df"
   ]
  },
  {
   "cell_type": "markdown",
   "metadata": {},
   "source": [
    "**-----------------------------------------------Try messagese-------------------------------------------**"
   ]
  },
  {
   "cell_type": "code",
   "execution_count": 31,
   "metadata": {},
   "outputs": [
    {
     "name": "stdout",
     "output_type": "stream",
     "text": [
      "b'{\"code\":0,\"data\":{\"invalid_department_ids\":[],\"invalid_open_ids\":[],\"invalid_union_ids\":[],\"invalid_user_ids\":[],\"message_id\":\"bm-fbd5d351c84211d42432b03d416b7271\"},\"msg\":\"ok\"}'\n"
     ]
    }
   ],
   "source": [
    "# receiver='PT4358'\n",
    "# message_1=[]\n",
    "# nl='\\n'\n",
    "# if result[1]:\n",
    "#     message_1.append([{\n",
    "#                     \"tag\": \"text\",\n",
    "#                     \"text\":  f\"{nl.join(result[1])}\"\n",
    "#                     }])\n",
    "# sendmes(receiver,message_1)"
   ]
  }
 ],
 "metadata": {
  "kernelspec": {
   "display_name": "Python 3.10.0 ('.venv': venv)",
   "language": "python",
   "name": "python3"
  },
  "language_info": {
   "codemirror_mode": {
    "name": "ipython",
    "version": 3
   },
   "file_extension": ".py",
   "mimetype": "text/x-python",
   "name": "python",
   "nbconvert_exporter": "python",
   "pygments_lexer": "ipython3",
   "version": "3.10.0"
  },
  "orig_nbformat": 4,
  "vscode": {
   "interpreter": {
    "hash": "42adda94682fdf74eaccb05d9931f4c7b437cb451d3de529d95686476be1755b"
   }
  }
 },
 "nbformat": 4,
 "nbformat_minor": 2
}
